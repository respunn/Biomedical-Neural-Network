{
 "cells": [
  {
   "cell_type": "code",
   "execution_count": null,
   "metadata": {},
   "outputs": [],
   "source": [
    "import numpy as np\n",
    "import matplotlib.pyplot as plt\n",
    "import tensorflow as tf\n",
    "from keras.preprocessing.image import ImageDataGenerator\n",
    "from keras.models import Sequential\n",
    "from keras.layers import Conv2D, MaxPooling2D, Flatten, Dense, Dropout, BatchNormalization, MaxPool2D"
   ]
  },
  {
   "cell_type": "code",
   "execution_count": null,
   "metadata": {},
   "outputs": [],
   "source": [
    "batch_size = 32\n",
    "epoch_size = 15\n",
    "target_size = (256, 256)\n",
    "directory = \"..\\\\Datasets\\\\sachinkumar413\\\\Splitted_Dataset\"\n",
    "\n",
    "trainDatagen = ImageDataGenerator(rescale= 1/255.)\n",
    "testDatagen = ImageDataGenerator(rescale= 1/255.)\n",
    "validationDatagen = ImageDataGenerator(rescale= 1/255.)\n",
    "\n",
    "train = trainDatagen.flow_from_directory(directory= f\"{directory}/train\", batch_size= batch_size, class_mode= 'categorical', target_size= target_size, shuffle= True)\n",
    "test = testDatagen.flow_from_directory(directory= f\"{directory}/test\", batch_size= batch_size, class_mode= \"categorical\", target_size= target_size, shuffle= False)\n",
    "validation = validationDatagen.flow_from_directory(directory= f\"{directory}/val\", batch_size= batch_size, class_mode= \"categorical\", target_size= target_size, shuffle= False)"
   ]
  },
  {
   "cell_type": "code",
   "execution_count": null,
   "metadata": {},
   "outputs": [],
   "source": [
    "Network = Sequential([\n",
    "    Conv2D(8, (3, 3), activation= 'relu', input_shape= (256, 256, 3)),\n",
    "    MaxPooling2D(2, 2),\n",
    "\n",
    "    Conv2D(16, (3, 3), activation= 'relu', input_shape= (256, 256, 3)),\n",
    "    MaxPooling2D(2, 2),\n",
    "\n",
    "    Conv2D(32, (3, 3), activation= 'relu', input_shape= (256, 256, 3)),\n",
    "    MaxPooling2D(2, 2),\n",
    "\n",
    "    Conv2D(64, (3, 3), activation= 'relu', input_shape= (256, 256, 3)),\n",
    "    MaxPooling2D(2, 2),\n",
    "\n",
    "    Conv2D(128, (3, 3), activation= 'relu', input_shape= (256, 256, 3)),\n",
    "    MaxPooling2D(2, 2),\n",
    "\n",
    "    Conv2D(256, (3, 3), activation= 'relu', input_shape= (256, 256, 3)),\n",
    "    MaxPooling2D(2, 2),\n",
    "\n",
    "    Flatten(),\n",
    "    \n",
    "    Dense(512, activation= 'relu'),\n",
    "    Dense(256, activation= 'relu'),\n",
    "    Dense(128, activation= 'relu'),\n",
    "    Dense(64, activation= 'relu'),\n",
    "    Dense(5, activation= 'softmax')\n",
    "])\n",
    "Network.summary()"
   ]
  },
  {
   "cell_type": "code",
   "execution_count": null,
   "metadata": {},
   "outputs": [],
   "source": [
    "Network.compile(optimizer= 'adam', loss= 'categorical_crossentropy', metrics= ['accuracy'])\n",
    "\n",
    "history = Network.fit(train, epochs= epoch_size, verbose= 'auto', validation_data= validation)"
   ]
  },
  {
   "cell_type": "code",
   "execution_count": null,
   "metadata": {},
   "outputs": [],
   "source": [
    "test_generator_loss, test_generator_accuracy = Network.evaluate(test, steps=test.samples // batch_size)\n",
    "print(f'test_generator Loss: {test_generator_loss}, test_generator Accuracy: {test_generator_accuracy}')\n",
    "\n",
    "Network.evaluate(test)"
   ]
  },
  {
   "cell_type": "code",
   "execution_count": null,
   "metadata": {},
   "outputs": [],
   "source": [
    "print(\"Training Loss: \", history.history['loss'][-1])\n",
    "print(\"Training Accuracy: \", history.history['accuracy'][-1])\n",
    "print(\"Validation Loss: \", history.history['val_loss'][-1])\n",
    "print(\"Validation Accuracy: \", history.history['val_accuracy'][-1])"
   ]
  },
  {
   "cell_type": "code",
   "execution_count": null,
   "metadata": {},
   "outputs": [],
   "source": [
    "train_acc = history.history['accuracy']\n",
    "val_acc = history.history['val_accuracy']\n",
    "train_loss = history.history['loss']\n",
    "val_loss = history.history['val_loss']\n",
    "\n",
    "fig, (ax1, ax2) = plt.subplots(1, 2, figsize=(12, 4))\n",
    "\n",
    "ax1.plot(train_acc, label='Training Accuracy')\n",
    "ax1.plot(val_acc, label='Validation Accuracy')\n",
    "ax1.set_xlabel('Epochs')\n",
    "ax1.set_ylabel('Accuracy')\n",
    "ax1.legend(loc='best')\n",
    "ax1.set_title('Training and Validation Accuracy')\n",
    "\n",
    "ax2.plot(train_loss, label='Training Loss')\n",
    "ax2.plot(val_loss, label='Validation Loss')\n",
    "ax2.set_xlabel('Epochs')\n",
    "ax2.set_ylabel('Loss')\n",
    "ax2.legend(loc='best')\n",
    "ax2.set_title('Training and Validation Loss')\n",
    "\n",
    "plt.show()"
   ]
  }
 ],
 "metadata": {
  "kernelspec": {
   "display_name": "Python 3",
   "language": "python",
   "name": "python3"
  },
  "language_info": {
   "codemirror_mode": {
    "name": "ipython",
    "version": 3
   },
   "file_extension": ".py",
   "mimetype": "text/x-python",
   "name": "python",
   "nbconvert_exporter": "python",
   "pygments_lexer": "ipython3",
   "version": "3.10.5"
  }
 },
 "nbformat": 4,
 "nbformat_minor": 2
}
